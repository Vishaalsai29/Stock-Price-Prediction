{
  "nbformat": 4,
  "nbformat_minor": 0,
  "metadata": {
    "colab": {
      "provenance": []
    },
    "kernelspec": {
      "name": "python3",
      "display_name": "Python 3"
    },
    "language_info": {
      "name": "python"
    }
  },
  "cells": [
    {
      "cell_type": "code",
      "source": [
        "import sys\n",
        "sys.path.append('/content')\n",
        "import tsa_functions_quantra"
      ],
      "metadata": {
        "id": "rzMdQb1BWGcw"
      },
      "execution_count": 4,
      "outputs": []
    },
    {
      "cell_type": "code",
      "source": [
        "%run tsa_functions_quantra.py\n"
      ],
      "metadata": {
        "colab": {
          "base_uri": "https://localhost:8080/"
        },
        "id": "uhbiF1SEW4uC",
        "outputId": "0fde409b-a630-4bdc-fb2c-ff13c2aa5809"
      },
      "execution_count": 5,
      "outputs": [
        {
          "output_type": "stream",
          "name": "stderr",
          "text": [
            "/content/tsa_functions_quantra.py:8: MatplotlibDeprecationWarning: The seaborn styles shipped by Matplotlib are deprecated since 3.6, as they no longer correspond to the styles shipped by seaborn. However, they will remain available as 'seaborn-v0_8-<style>'. Alternatively, directly use the seaborn API instead.\n",
            "  plt.style.use('seaborn-darkgrid')\n"
          ]
        }
      ]
    },
    {
      "cell_type": "code",
      "source": [
        "%load tsa_functions_quantra.py"
      ],
      "metadata": {
        "id": "vhH7v3OtXFIn"
      },
      "execution_count": 6,
      "outputs": []
    },
    {
      "cell_type": "code",
      "source": [
        "import numpy as np\n",
        "import pandas as pd\n",
        "import matplotlib.pyplot as plt\n",
        "import yfinance as yf  # You can install this package using: pip install yfinance\n",
        "from sklearn.preprocessing import MinMaxScaler\n",
        "from sklearn.metrics import mean_squared_error\n",
        "from keras.models import Sequential\n",
        "from keras.layers import LSTM, Dense\n",
        "import datetime\n",
        "from tsa_functions_quantra import model_performance"
      ],
      "metadata": {
        "id": "SdVCIEIkXJec"
      },
      "execution_count": 7,
      "outputs": []
    },
    {
      "cell_type": "code",
      "source": [
        "from google.colab import drive\n",
        "drive.mount('/content/drive')"
      ],
      "metadata": {
        "colab": {
          "base_uri": "https://localhost:8080/"
        },
        "id": "y_BP27-Li4SC",
        "outputId": "672ddf03-0ded-423e-e5c1-a83d08ca0fad"
      },
      "execution_count": null,
      "outputs": [
        {
          "output_type": "stream",
          "name": "stdout",
          "text": [
            "Drive already mounted at /content/drive; to attempt to forcibly remount, call drive.mount(\"/content/drive\", force_remount=True).\n"
          ]
        }
      ]
    },
    {
      "cell_type": "code",
      "source": [
        "# Step 1: Download historical stock price data\n",
        "data = pd.read_csv(\"/content/drive/MyDrive/MSFT-10y.csv\",delimiter=\"|\")\n",
        "data = data[-814:]\n",
        "data.head()"
      ],
      "metadata": {
        "colab": {
          "base_uri": "https://localhost:8080/",
          "height": 206
        },
        "id": "b1E2loOkXXmx",
        "outputId": "34dd823d-a707-4985-beec-4e32ebe5c6d8"
      },
      "execution_count": 17,
      "outputs": [
        {
          "output_type": "execute_result",
          "data": {
            "text/plain": [
              "            Date        Open        High         Low       Close   Adj Close  \\\n",
              "1703  2021-01-04  222.529999  223.000000  214.809998  217.690002  211.605316   \n",
              "1704  2021-01-05  217.259995  218.520004  215.699997  217.899994  211.809448   \n",
              "1705  2021-01-06  212.169998  216.490005  211.940002  212.250000  206.317352   \n",
              "1706  2021-01-07  214.039993  219.339996  213.710007  218.289993  212.188522   \n",
              "1707  2021-01-08  218.679993  220.580002  217.029999  219.619995  213.481369   \n",
              "\n",
              "        Volume  \n",
              "1703  37130100  \n",
              "1704  23823000  \n",
              "1705  35930700  \n",
              "1706  27694500  \n",
              "1707  22956200  "
            ],
            "text/html": [
              "\n",
              "  <div id=\"df-0240bbce-28f7-4478-90b9-4b6a63646e99\" class=\"colab-df-container\">\n",
              "    <div>\n",
              "<style scoped>\n",
              "    .dataframe tbody tr th:only-of-type {\n",
              "        vertical-align: middle;\n",
              "    }\n",
              "\n",
              "    .dataframe tbody tr th {\n",
              "        vertical-align: top;\n",
              "    }\n",
              "\n",
              "    .dataframe thead th {\n",
              "        text-align: right;\n",
              "    }\n",
              "</style>\n",
              "<table border=\"1\" class=\"dataframe\">\n",
              "  <thead>\n",
              "    <tr style=\"text-align: right;\">\n",
              "      <th></th>\n",
              "      <th>Date</th>\n",
              "      <th>Open</th>\n",
              "      <th>High</th>\n",
              "      <th>Low</th>\n",
              "      <th>Close</th>\n",
              "      <th>Adj Close</th>\n",
              "      <th>Volume</th>\n",
              "    </tr>\n",
              "  </thead>\n",
              "  <tbody>\n",
              "    <tr>\n",
              "      <th>1703</th>\n",
              "      <td>2021-01-04</td>\n",
              "      <td>222.529999</td>\n",
              "      <td>223.000000</td>\n",
              "      <td>214.809998</td>\n",
              "      <td>217.690002</td>\n",
              "      <td>211.605316</td>\n",
              "      <td>37130100</td>\n",
              "    </tr>\n",
              "    <tr>\n",
              "      <th>1704</th>\n",
              "      <td>2021-01-05</td>\n",
              "      <td>217.259995</td>\n",
              "      <td>218.520004</td>\n",
              "      <td>215.699997</td>\n",
              "      <td>217.899994</td>\n",
              "      <td>211.809448</td>\n",
              "      <td>23823000</td>\n",
              "    </tr>\n",
              "    <tr>\n",
              "      <th>1705</th>\n",
              "      <td>2021-01-06</td>\n",
              "      <td>212.169998</td>\n",
              "      <td>216.490005</td>\n",
              "      <td>211.940002</td>\n",
              "      <td>212.250000</td>\n",
              "      <td>206.317352</td>\n",
              "      <td>35930700</td>\n",
              "    </tr>\n",
              "    <tr>\n",
              "      <th>1706</th>\n",
              "      <td>2021-01-07</td>\n",
              "      <td>214.039993</td>\n",
              "      <td>219.339996</td>\n",
              "      <td>213.710007</td>\n",
              "      <td>218.289993</td>\n",
              "      <td>212.188522</td>\n",
              "      <td>27694500</td>\n",
              "    </tr>\n",
              "    <tr>\n",
              "      <th>1707</th>\n",
              "      <td>2021-01-08</td>\n",
              "      <td>218.679993</td>\n",
              "      <td>220.580002</td>\n",
              "      <td>217.029999</td>\n",
              "      <td>219.619995</td>\n",
              "      <td>213.481369</td>\n",
              "      <td>22956200</td>\n",
              "    </tr>\n",
              "  </tbody>\n",
              "</table>\n",
              "</div>\n",
              "    <div class=\"colab-df-buttons\">\n",
              "\n",
              "  <div class=\"colab-df-container\">\n",
              "    <button class=\"colab-df-convert\" onclick=\"convertToInteractive('df-0240bbce-28f7-4478-90b9-4b6a63646e99')\"\n",
              "            title=\"Convert this dataframe to an interactive table.\"\n",
              "            style=\"display:none;\">\n",
              "\n",
              "  <svg xmlns=\"http://www.w3.org/2000/svg\" height=\"24px\" viewBox=\"0 -960 960 960\">\n",
              "    <path d=\"M120-120v-720h720v720H120Zm60-500h600v-160H180v160Zm220 220h160v-160H400v160Zm0 220h160v-160H400v160ZM180-400h160v-160H180v160Zm440 0h160v-160H620v160ZM180-180h160v-160H180v160Zm440 0h160v-160H620v160Z\"/>\n",
              "  </svg>\n",
              "    </button>\n",
              "\n",
              "  <style>\n",
              "    .colab-df-container {\n",
              "      display:flex;\n",
              "      gap: 12px;\n",
              "    }\n",
              "\n",
              "    .colab-df-convert {\n",
              "      background-color: #E8F0FE;\n",
              "      border: none;\n",
              "      border-radius: 50%;\n",
              "      cursor: pointer;\n",
              "      display: none;\n",
              "      fill: #1967D2;\n",
              "      height: 32px;\n",
              "      padding: 0 0 0 0;\n",
              "      width: 32px;\n",
              "    }\n",
              "\n",
              "    .colab-df-convert:hover {\n",
              "      background-color: #E2EBFA;\n",
              "      box-shadow: 0px 1px 2px rgba(60, 64, 67, 0.3), 0px 1px 3px 1px rgba(60, 64, 67, 0.15);\n",
              "      fill: #174EA6;\n",
              "    }\n",
              "\n",
              "    .colab-df-buttons div {\n",
              "      margin-bottom: 4px;\n",
              "    }\n",
              "\n",
              "    [theme=dark] .colab-df-convert {\n",
              "      background-color: #3B4455;\n",
              "      fill: #D2E3FC;\n",
              "    }\n",
              "\n",
              "    [theme=dark] .colab-df-convert:hover {\n",
              "      background-color: #434B5C;\n",
              "      box-shadow: 0px 1px 3px 1px rgba(0, 0, 0, 0.15);\n",
              "      filter: drop-shadow(0px 1px 2px rgba(0, 0, 0, 0.3));\n",
              "      fill: #FFFFFF;\n",
              "    }\n",
              "  </style>\n",
              "\n",
              "    <script>\n",
              "      const buttonEl =\n",
              "        document.querySelector('#df-0240bbce-28f7-4478-90b9-4b6a63646e99 button.colab-df-convert');\n",
              "      buttonEl.style.display =\n",
              "        google.colab.kernel.accessAllowed ? 'block' : 'none';\n",
              "\n",
              "      async function convertToInteractive(key) {\n",
              "        const element = document.querySelector('#df-0240bbce-28f7-4478-90b9-4b6a63646e99');\n",
              "        const dataTable =\n",
              "          await google.colab.kernel.invokeFunction('convertToInteractive',\n",
              "                                                    [key], {});\n",
              "        if (!dataTable) return;\n",
              "\n",
              "        const docLinkHtml = 'Like what you see? Visit the ' +\n",
              "          '<a target=\"_blank\" href=https://colab.research.google.com/notebooks/data_table.ipynb>data table notebook</a>'\n",
              "          + ' to learn more about interactive tables.';\n",
              "        element.innerHTML = '';\n",
              "        dataTable['output_type'] = 'display_data';\n",
              "        await google.colab.output.renderOutput(dataTable, element);\n",
              "        const docLink = document.createElement('div');\n",
              "        docLink.innerHTML = docLinkHtml;\n",
              "        element.appendChild(docLink);\n",
              "      }\n",
              "    </script>\n",
              "  </div>\n",
              "\n",
              "\n",
              "<div id=\"df-c52b2a7a-11ce-4f9d-ae95-b4bbe51b4ddd\">\n",
              "  <button class=\"colab-df-quickchart\" onclick=\"quickchart('df-c52b2a7a-11ce-4f9d-ae95-b4bbe51b4ddd')\"\n",
              "            title=\"Suggest charts\"\n",
              "            style=\"display:none;\">\n",
              "\n",
              "<svg xmlns=\"http://www.w3.org/2000/svg\" height=\"24px\"viewBox=\"0 0 24 24\"\n",
              "     width=\"24px\">\n",
              "    <g>\n",
              "        <path d=\"M19 3H5c-1.1 0-2 .9-2 2v14c0 1.1.9 2 2 2h14c1.1 0 2-.9 2-2V5c0-1.1-.9-2-2-2zM9 17H7v-7h2v7zm4 0h-2V7h2v10zm4 0h-2v-4h2v4z\"/>\n",
              "    </g>\n",
              "</svg>\n",
              "  </button>\n",
              "\n",
              "<style>\n",
              "  .colab-df-quickchart {\n",
              "      --bg-color: #E8F0FE;\n",
              "      --fill-color: #1967D2;\n",
              "      --hover-bg-color: #E2EBFA;\n",
              "      --hover-fill-color: #174EA6;\n",
              "      --disabled-fill-color: #AAA;\n",
              "      --disabled-bg-color: #DDD;\n",
              "  }\n",
              "\n",
              "  [theme=dark] .colab-df-quickchart {\n",
              "      --bg-color: #3B4455;\n",
              "      --fill-color: #D2E3FC;\n",
              "      --hover-bg-color: #434B5C;\n",
              "      --hover-fill-color: #FFFFFF;\n",
              "      --disabled-bg-color: #3B4455;\n",
              "      --disabled-fill-color: #666;\n",
              "  }\n",
              "\n",
              "  .colab-df-quickchart {\n",
              "    background-color: var(--bg-color);\n",
              "    border: none;\n",
              "    border-radius: 50%;\n",
              "    cursor: pointer;\n",
              "    display: none;\n",
              "    fill: var(--fill-color);\n",
              "    height: 32px;\n",
              "    padding: 0;\n",
              "    width: 32px;\n",
              "  }\n",
              "\n",
              "  .colab-df-quickchart:hover {\n",
              "    background-color: var(--hover-bg-color);\n",
              "    box-shadow: 0 1px 2px rgba(60, 64, 67, 0.3), 0 1px 3px 1px rgba(60, 64, 67, 0.15);\n",
              "    fill: var(--button-hover-fill-color);\n",
              "  }\n",
              "\n",
              "  .colab-df-quickchart-complete:disabled,\n",
              "  .colab-df-quickchart-complete:disabled:hover {\n",
              "    background-color: var(--disabled-bg-color);\n",
              "    fill: var(--disabled-fill-color);\n",
              "    box-shadow: none;\n",
              "  }\n",
              "\n",
              "  .colab-df-spinner {\n",
              "    border: 2px solid var(--fill-color);\n",
              "    border-color: transparent;\n",
              "    border-bottom-color: var(--fill-color);\n",
              "    animation:\n",
              "      spin 1s steps(1) infinite;\n",
              "  }\n",
              "\n",
              "  @keyframes spin {\n",
              "    0% {\n",
              "      border-color: transparent;\n",
              "      border-bottom-color: var(--fill-color);\n",
              "      border-left-color: var(--fill-color);\n",
              "    }\n",
              "    20% {\n",
              "      border-color: transparent;\n",
              "      border-left-color: var(--fill-color);\n",
              "      border-top-color: var(--fill-color);\n",
              "    }\n",
              "    30% {\n",
              "      border-color: transparent;\n",
              "      border-left-color: var(--fill-color);\n",
              "      border-top-color: var(--fill-color);\n",
              "      border-right-color: var(--fill-color);\n",
              "    }\n",
              "    40% {\n",
              "      border-color: transparent;\n",
              "      border-right-color: var(--fill-color);\n",
              "      border-top-color: var(--fill-color);\n",
              "    }\n",
              "    60% {\n",
              "      border-color: transparent;\n",
              "      border-right-color: var(--fill-color);\n",
              "    }\n",
              "    80% {\n",
              "      border-color: transparent;\n",
              "      border-right-color: var(--fill-color);\n",
              "      border-bottom-color: var(--fill-color);\n",
              "    }\n",
              "    90% {\n",
              "      border-color: transparent;\n",
              "      border-bottom-color: var(--fill-color);\n",
              "    }\n",
              "  }\n",
              "</style>\n",
              "\n",
              "  <script>\n",
              "    async function quickchart(key) {\n",
              "      const quickchartButtonEl =\n",
              "        document.querySelector('#' + key + ' button');\n",
              "      quickchartButtonEl.disabled = true;  // To prevent multiple clicks.\n",
              "      quickchartButtonEl.classList.add('colab-df-spinner');\n",
              "      try {\n",
              "        const charts = await google.colab.kernel.invokeFunction(\n",
              "            'suggestCharts', [key], {});\n",
              "      } catch (error) {\n",
              "        console.error('Error during call to suggestCharts:', error);\n",
              "      }\n",
              "      quickchartButtonEl.classList.remove('colab-df-spinner');\n",
              "      quickchartButtonEl.classList.add('colab-df-quickchart-complete');\n",
              "    }\n",
              "    (() => {\n",
              "      let quickchartButtonEl =\n",
              "        document.querySelector('#df-c52b2a7a-11ce-4f9d-ae95-b4bbe51b4ddd button');\n",
              "      quickchartButtonEl.style.display =\n",
              "        google.colab.kernel.accessAllowed ? 'block' : 'none';\n",
              "    })();\n",
              "  </script>\n",
              "</div>\n",
              "    </div>\n",
              "  </div>\n"
            ],
            "application/vnd.google.colaboratory.intrinsic+json": {
              "type": "dataframe",
              "variable_name": "data",
              "repr_error": "0"
            }
          },
          "metadata": {},
          "execution_count": 17
        }
      ]
    },
    {
      "cell_type": "code",
      "source": [
        "# Step 2: Data preprocessing\n",
        "def preprocess_data(data):\n",
        "    # Extract the 'Close' price as our target variable\n",
        "    df = data[['Close']]\n",
        "\n",
        "    # Normalize the data to a range between 0 and 1\n",
        "    scaler = MinMaxScaler()\n",
        "    df['Close'] = scaler.fit_transform(df['Close'].values.reshape(-1,1))\n",
        "\n",
        "    return df, scaler"
      ],
      "metadata": {
        "id": "v9sSbl9SXl6x"
      },
      "execution_count": 19,
      "outputs": []
    },
    {
      "cell_type": "code",
      "source": [
        "# Step 3: Create sequences for LSTM\n",
        "def create_sequences(data, sequence_length):\n",
        "    sequences = []\n",
        "    target = []\n",
        "    for i in range(len(data) - sequence_length):\n",
        "        x = data[i:i+sequence_length]\n",
        "        y = data[i+sequence_length]\n",
        "        sequences.append(x)\n",
        "        target.append(y)\n",
        "    return np.array(sequences), np.array(target)"
      ],
      "metadata": {
        "id": "xdf9CHmYXyPJ"
      },
      "execution_count": 20,
      "outputs": []
    },
    {
      "cell_type": "code",
      "source": [
        "# Step 4: Build and train the LSTM model\n",
        "def build_lstm_model(input_shape):\n",
        "    model = Sequential()\n",
        "    model.add(LSTM(units=100, return_sequences=True, input_shape=input_shape))\n",
        "    model.add(LSTM(100, return_sequences=False))\n",
        "    model.add(Dense(25))\n",
        "    model.add(Dense(1))\n",
        "    model.compile(optimizer='adam', loss='mean_squared_error')\n",
        "    return model"
      ],
      "metadata": {
        "id": "GDLiswsCX1Pa"
      },
      "execution_count": 21,
      "outputs": []
    },
    {
      "cell_type": "code",
      "source": [
        "# Preprocess the data\n",
        "df, scaler = preprocess_data(data)"
      ],
      "metadata": {
        "colab": {
          "base_uri": "https://localhost:8080/"
        },
        "id": "ZqVT8pIvtFlK",
        "outputId": "f83078b7-a016-4799-a880-628090ccede3"
      },
      "execution_count": 26,
      "outputs": [
        {
          "output_type": "stream",
          "name": "stderr",
          "text": [
            "<ipython-input-19-d1ab49ec2771>:8: SettingWithCopyWarning: \n",
            "A value is trying to be set on a copy of a slice from a DataFrame.\n",
            "Try using .loc[row_indexer,col_indexer] = value instead\n",
            "\n",
            "See the caveats in the documentation: https://pandas.pydata.org/pandas-docs/stable/user_guide/indexing.html#returning-a-view-versus-a-copy\n",
            "  df['Close'] = scaler.fit_transform(df['Close'].values.reshape(-1,1))\n"
          ]
        }
      ]
    },
    {
      "cell_type": "code",
      "source": [
        "# Define the sequence length and create sequences\n",
        "sequence_length = 60\n",
        "sequences, target = create_sequences(df.values, sequence_length)"
      ],
      "metadata": {
        "id": "HDJNaS9Ws1Ag"
      },
      "execution_count": 45,
      "outputs": []
    },
    {
      "cell_type": "code",
      "source": [
        "# Split the data into training and testing sets\n",
        "train_size = int(len(sequences) * 0.8)\n",
        "X_train, X_test = sequences[:train_size], sequences[train_size:]\n",
        "y_train, y_test = target[:train_size], target[train_size:]\n",
        "print (X_train)\n",
        "len(X_train)"
      ],
      "metadata": {
        "colab": {
          "base_uri": "https://localhost:8080/"
        },
        "id": "ZMP5z0sBs5JD",
        "outputId": "09cc9ac9-5481-4b1f-dacd-8276c304dff1"
      },
      "execution_count": 46,
      "outputs": [
        {
          "output_type": "stream",
          "name": "stdout",
          "text": [
            "[[[0.02505528]\n",
            "  [0.02602245]\n",
            "  [0.        ]\n",
            "  ...\n",
            "  [0.11159726]\n",
            "  [0.10588617]\n",
            "  [0.09027269]]\n",
            "\n",
            " [[0.02602245]\n",
            "  [0.        ]\n",
            "  [0.02781869]\n",
            "  ...\n",
            "  [0.10588617]\n",
            "  [0.09027269]\n",
            "  [0.10832721]]\n",
            "\n",
            " [[0.        ]\n",
            "  [0.02781869]\n",
            "  [0.03394434]\n",
            "  ...\n",
            "  [0.09027269]\n",
            "  [0.10832721]\n",
            "  [0.13863305]]\n",
            "\n",
            " ...\n",
            "\n",
            " [[0.47443815]\n",
            "  [0.46794403]\n",
            "  [0.52353545]\n",
            "  ...\n",
            "  [0.50483598]\n",
            "  [0.49811163]\n",
            "  [0.48189944]]\n",
            "\n",
            " [[0.46794403]\n",
            "  [0.52353545]\n",
            "  [0.55563752]\n",
            "  ...\n",
            "  [0.49811163]\n",
            "  [0.48189944]\n",
            "  [0.48005717]]\n",
            "\n",
            " [[0.52353545]\n",
            "  [0.55563752]\n",
            "  [0.54789975]\n",
            "  ...\n",
            "  [0.48189944]\n",
            "  [0.48005717]\n",
            "  [0.50492818]]]\n"
          ]
        },
        {
          "output_type": "execute_result",
          "data": {
            "text/plain": [
              "603"
            ]
          },
          "metadata": {},
          "execution_count": 46
        }
      ]
    },
    {
      "cell_type": "code",
      "source": [
        "# Build the LSTM model\n",
        "input_shape = (X_train.shape[1], X_train.shape[2])\n",
        "model = build_lstm_model(input_shape)"
      ],
      "metadata": {
        "id": "1GZ5AKuCs7rE"
      },
      "execution_count": 47,
      "outputs": []
    },
    {
      "cell_type": "code",
      "source": [
        "# Train the model\n",
        "model.fit(X_train, y_train, epochs=3, batch_size=1)"
      ],
      "metadata": {
        "colab": {
          "base_uri": "https://localhost:8080/"
        },
        "id": "2oyRpDSJumeX",
        "outputId": "68c9c701-0af8-4094-cc64-ee481c5f1af4"
      },
      "execution_count": 48,
      "outputs": [
        {
          "output_type": "stream",
          "name": "stdout",
          "text": [
            "Epoch 1/3\n",
            "603/603 [==============================] - 48s 72ms/step - loss: 0.0033\n",
            "Epoch 2/3\n",
            "603/603 [==============================] - 44s 73ms/step - loss: 0.0017\n",
            "Epoch 3/3\n",
            "603/603 [==============================] - 45s 75ms/step - loss: 0.0014\n"
          ]
        },
        {
          "output_type": "execute_result",
          "data": {
            "text/plain": [
              "<keras.src.callbacks.History at 0x784b16fe5420>"
            ]
          },
          "metadata": {},
          "execution_count": 48
        }
      ]
    },
    {
      "cell_type": "code",
      "source": [
        "# Make predictions on the test data\n",
        "y_pred = model.predict(X_test)"
      ],
      "metadata": {
        "colab": {
          "base_uri": "https://localhost:8080/"
        },
        "id": "fVKkxZxwvDjG",
        "outputId": "d9d6a20b-2e06-457d-86b8-5db53783d824"
      },
      "execution_count": 49,
      "outputs": [
        {
          "output_type": "stream",
          "name": "stdout",
          "text": [
            "5/5 [==============================] - 1s 31ms/step\n"
          ]
        }
      ]
    },
    {
      "cell_type": "code",
      "source": [
        "# Inverse transform the predictions to get actual stock prices\n",
        "y_pred = scaler.inverse_transform(y_pred)\n",
        "#print (y_test)\n",
        "y_test = scaler.inverse_transform(y_test.reshape(-1, 1))\n",
        "#print('After: ')\n",
        "#print(y_test)"
      ],
      "metadata": {
        "id": "oEbA13gBvKbS"
      },
      "execution_count": 50,
      "outputs": []
    },
    {
      "cell_type": "code",
      "source": [
        "import numpy as np\n",
        "from sklearn.metrics import mean_absolute_error\n",
        "from sklearn.metrics import mean_squared_error\n",
        "from statsmodels.graphics.tsaplots import plot_pacf\n",
        "from math import sqrt\n",
        "import matplotlib.pyplot as plt\n",
        "import matplotlib.dates as mdates\n",
        "plt.style.use('seaborn-darkgrid')"
      ],
      "metadata": {
        "colab": {
          "base_uri": "https://localhost:8080/"
        },
        "id": "bXO-njRIzwEe",
        "outputId": "03328010-929e-4b5c-f5b8-59c97cec6977"
      },
      "execution_count": 55,
      "outputs": [
        {
          "output_type": "stream",
          "name": "stderr",
          "text": [
            "<ipython-input-55-b7ae1c6d4570>:8: MatplotlibDeprecationWarning: The seaborn styles shipped by Matplotlib are deprecated since 3.6, as they no longer correspond to the styles shipped by seaborn. However, they will remain available as 'seaborn-v0_8-<style>'. Alternatively, directly use the seaborn API instead.\n",
            "  plt.style.use('seaborn-darkgrid')\n"
          ]
        }
      ]
    },
    {
      "cell_type": "code",
      "source": [
        "# Calculate and print the Mean Squared Error (MSE)\n",
        "mse = mean_squared_error(y_test, y_pred)\n",
        "print(f'Mean Squared Error: {mse}')\n",
        "rmse = np.sqrt(np.mean(y_pred - y_test)**2)\n",
        "print(f'Root Mean Squared Error: {rmse}')\n",
        "result = pd.DataFrame(y_test, columns = ['Actual'])\n",
        "result2 = pd.DataFrame(y_pred, columns = ['Predicted'])\n",
        "final_result = pd.concat([result,result2], axis=1)\n",
        "print(final_result)\n",
        "\n",
        "#model_performance(final_result['Actual'],final_result['Predicted'])"
      ],
      "metadata": {
        "colab": {
          "base_uri": "https://localhost:8080/"
        },
        "id": "q6CuIXGEvf9y",
        "outputId": "c65f4201-426c-4877-9990-caf621a402ed"
      },
      "execution_count": 56,
      "outputs": [
        {
          "output_type": "stream",
          "name": "stdout",
          "text": [
            "Mean Squared Error: 28.37336184704883\n",
            "Root Mean Squared Error: 2.722574196114439\n",
            "         Actual   Predicted\n",
            "0    327.000000  326.822327\n",
            "1    319.970001  330.165192\n",
            "2    322.980011  328.293243\n",
            "3    323.700012  327.909821\n",
            "4    328.410004  328.250153\n",
            "..          ...         ...\n",
            "146  428.739990  429.250824\n",
            "147  422.859985  430.601685\n",
            "148  421.649994  427.070862\n",
            "149  421.429993  424.127899\n",
            "150  420.720001  422.927673\n",
            "\n",
            "[151 rows x 2 columns]\n"
          ]
        }
      ]
    },
    {
      "cell_type": "code",
      "source": [
        "observed = result\n",
        "predicted = result2"
      ],
      "metadata": {
        "id": "ju1ZtQav0U1Z"
      },
      "execution_count": 57,
      "outputs": []
    },
    {
      "cell_type": "code",
      "source": [
        "# Mean Absolute Error\n",
        "mae = mean_absolute_error(observed, predicted)\n",
        "print('The Mean Absolute Error is %.2f' % mae)\n",
        "\n",
        "# Mean Squared Error\n",
        "mse = mean_squared_error(observed, predicted)\n",
        "print('The Mean Squared Error is %.2f' % mse)\n",
        "\n",
        "# Root Mean Squared Error\n",
        "rmse = sqrt(mean_squared_error(observed, predicted))\n",
        "print('The Root Mean Squared Error is %.2f' % rmse)\n",
        "\n",
        "# Mean Absolute Percentage Error\n",
        "mape = 100 * ((observed-predicted)/observed).abs().mean()\n",
        "#print('The Mean Absolute Percentage Error is %.2f' % mape)"
      ],
      "metadata": {
        "colab": {
          "base_uri": "https://localhost:8080/"
        },
        "id": "8dTh5xc20KtX",
        "outputId": "e7cef02f-535a-4836-9318-38a8a16d64f2"
      },
      "execution_count": 61,
      "outputs": [
        {
          "output_type": "stream",
          "name": "stdout",
          "text": [
            "The Mean Absolute Error is 4.26\n",
            "The Mean Squared Error is 28.37\n",
            "The Root Mean Squared Error is 5.33\n"
          ]
        }
      ]
    },
    {
      "cell_type": "code",
      "source": [
        "plt.figure(figsize=(12, 6))\n",
        "plt.plot(data.index[train_size+sequence_length:], y_test, label='Actual Price')\n",
        "plt.plot(data.index[train_size+sequence_length:], y_pred, label='Predicted Price')\n",
        "plt.title('Stock Price Prediction')\n",
        "plt.ylabel('Stock Price')\n",
        "plt.legend()\n",
        "plt.show()"
      ],
      "metadata": {
        "colab": {
          "base_uri": "https://localhost:8080/",
          "height": 538
        },
        "id": "hbfOuktCxOom",
        "outputId": "66129b0f-cd5e-4dc3-da48-250f8159e8e6"
      },
      "execution_count": 63,
      "outputs": [
        {
          "output_type": "display_data",
          "data": {
            "text/plain": [
              "<Figure size 1200x600 with 1 Axes>"
            ],
            "image/png": "[encoded data removed]"
          },
          "metadata": {}
        }
      ]
    },
    {
      "cell_type": "code",
      "source": [
        "# Step 5: Main function for stock price prediction\n",
        "#def main():\n",
        "    # Define the stock symbol, start date, and end date\n",
        "    symbol = 'MSFT'\n",
        "    #start_date = '2015-01-01'\n",
        "    #end_date = datetime.date.today()\n",
        "    #end_date = '2023-01-01'\n",
        "\n",
        "    # Download historical stock data\n",
        "    #data = pd.read_csv(\"/content/yfin test file.txt\",delimiter=\"|\")\n",
        "\n",
        "    # Preprocess the data\n",
        "    df, scaler = preprocess_data(data)\n",
        "\n",
        "    # Define the sequence length and create sequences\n",
        "    sequence_length = 10\n",
        "    sequences, target = create_sequences(df.values, sequence_length)\n",
        "\n",
        "    # Split the data into training and testing sets\n",
        "    train_size = int(len(sequences) * 0.8)\n",
        "    X_train, X_test = sequences[:train_size], sequences[train_size:]\n",
        "    y_train, y_test = target[:train_size], target[train_size:]\n",
        "\n",
        "    print (X_train)\n",
        "    # Build the LSTM model\n",
        "    input_shape = (X_train.shape[1], X_train.shape[2])\n",
        "    model = build_lstm_model(input_shape)\n",
        "\n",
        "    # Train the model\n",
        "    model.fit(X_train, y_train, epochs=3, batch_size=1)\n",
        "\n",
        "    # Make predictions on the test data\n",
        "    y_pred = model.predict(X_test)\n",
        "\n",
        "    # Inverse transform the predictions to get actual stock prices\n",
        "    y_pred = scaler.inverse_transform(y_pred)\n",
        "    #print (y_test)\n",
        "    y_test = scaler.inverse_transform(y_test.reshape(-1, 1))\n",
        "    print('After: ')\n",
        "    #print(y_test)\n",
        "\n",
        "    # Calculate and print the Mean Squared Error (MSE)\n",
        "    mse = mean_squared_error(y_test, y_pred)\n",
        "    print(f'Mean Squared Error: {mse}')\n",
        "    rmse = np.sqrt(np.mean(y_pred - y_test)**2)\n",
        "    print(f'Root Mean Squared Error: {rmse}')\n",
        "    result = pd.DataFrame(y_test, columns = ['Actual'])\n",
        "    result2 = pd.DataFrame(y_pred, columns = ['Predicted'])\n",
        "    final_result = pd.concat([result,result2], axis=1)\n",
        "    print(final_result)\n",
        "\n",
        "    model_performance(final_result['Actual'],final_result['Predicted'])\n",
        "\n",
        "    # Plot the actual vs. predicted stock prices\n",
        "    plt.figure(figsize=(12, 6))\n",
        "    plt.plot(data.index[train_size+sequence_length:], y_test, label='Actual Price')\n",
        "    plt.plot(data.index[train_size+sequence_length:], y_pred, label='Predicted Price')\n",
        "    plt.title(f'{symbol} Stock Price Prediction')\n",
        "    plt.xlabel('Date')\n",
        "    plt.ylabel('Stock Price')\n",
        "    plt.legend()\n",
        "    plt.show()\n",
        "\n",
        "if __name__ == \"__main__\":\n",
        "    main()"
      ],
      "metadata": {
        "colab": {
          "base_uri": "https://localhost:8080/",
          "height": 106
        },
        "id": "kTY0KU7KX2ml",
        "outputId": "58ce906f-49ab-432e-8d40-2abb0b797f08"
      },
      "execution_count": 65,
      "outputs": [
        {
          "output_type": "error",
          "ename": "IndentationError",
          "evalue": "unexpected indent (<ipython-input-65-828a3be62962>, line 4)",
          "traceback": [
            "\u001b[0;36m  File \u001b[0;32m\"<ipython-input-65-828a3be62962>\"\u001b[0;36m, line \u001b[0;32m4\u001b[0m\n\u001b[0;31m    symbol = 'MSFT'\u001b[0m\n\u001b[0m    ^\u001b[0m\n\u001b[0;31mIndentationError\u001b[0m\u001b[0;31m:\u001b[0m unexpected indent\n"
          ]
        }
      ]
    }
  ]
}